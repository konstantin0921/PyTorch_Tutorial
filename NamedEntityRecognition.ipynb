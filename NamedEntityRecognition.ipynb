{
 "metadata": {
  "language_info": {
   "codemirror_mode": {
    "name": "ipython",
    "version": 3
   },
   "file_extension": ".py",
   "mimetype": "text/x-python",
   "name": "python",
   "nbconvert_exporter": "python",
   "pygments_lexer": "ipython3",
   "version": "3.7.9-final"
  },
  "orig_nbformat": 2,
  "kernelspec": {
   "name": "Python 3.7.9 64-bit ('pytorch_env': conda)",
   "display_name": "Python 3.7.9 64-bit ('pytorch_env': conda)",
   "metadata": {
    "interpreter": {
     "hash": "4186f74e01e939e2abb13312658e7bf0ac5f4e211937d1494f0d00c60e38bb4e"
    }
   }
  }
 },
 "nbformat": 4,
 "nbformat_minor": 2,
 "cells": [
  {
   "source": [
    "## Advanced Tutorial: Named Entity Recognition using a Bi-LSTM with the Conditional Random Field Algorithm\n",
    "Tutorial Link: https://pytorch.org/tutorials/beginner/nlp/advanced_tutorial.html##\n",
    "\n",
    "The Bi-LSTM is trained on both past as well as future information from the given data as word embeddings or vectors representing the input words.\n",
    "\n",
    "![](data/pic.png)\n",
    "\n"
   ],
   "cell_type": "markdown",
   "metadata": {}
  },
  {
   "source": [
    "## Definitions\n",
    "### Bi-LSTM (Bidirectional-Long Short-Term Memory)\n",
    "As we saw, an LSTM addresses the vanishing gradient problem of the generic RNN by adding cell state and more non-linear activation function layers to pass on or attenuate signals to varying degrees. However, the main limitation of an LSTM is that it can only account for context from the past, that is, the hidden state, h_t, takes only past information as input.\n",
    "\n",
    "### Named Entity Recognition Task\n",
    "For the task of Named Entity Recognition (NER) it is helpful to have context from past as well as the future, or left and right contexts. This can be addressed with a Bi-LSTM which is two LSTMs, one processing information in a forward fashion as we have already seen and another LSTM that processes the sequences in a reverse fashion giving the future context. That second LSTM is just reading the sentence in reverse.\n",
    "\n",
    "The hidden states from both LSTMs are then concatenated into a final output layer or vector.\n",
    "\n",
    "### Conditional Random Field\n",
    "We don't have to stop at the output vector from the Bi-LSTM! We're not at our tag for the entity, yet. We need to understand costs of moving from one tag to the next (or staying put on a tag, even).\n",
    "\n",
    "In a CRF, we have the concept of a transition matrix which is the costs associated with transitioning from one tag to another - a transition matrix is calculated/trained for each time step. It is used in the determination of the best path through all potential sequences.\n",
    "\n",
    "Say B is the tag for the beginning of an entity, I signifies that we are inside an entity (will follow a B) and O means we are outside an entity.\n",
    "\n",
    "Next, is an example of B-I-O scheme labeling for finding nouns in a sentence (by the way, there are a myriad of other schemes out there - see Referenes for some more).\n",
    "\n",
    "![](data/table.png)\n",
    "\n",
    "Let's look at the transition matrix for the costs of moving from one tag (using our B-I-O scheme) to the next (remember our Bi-LSTM is understanding both the forward and reverse ordering to get more accurate boundaries for the named entities).\n",
    "![](data/crf_transition_matrix.png)"
   ],
   "cell_type": "markdown",
   "metadata": {}
  },
  {
   "source": [
    "### Viterbi Algorithm\n",
    "If each Bi-LSTM instance (time step) has an associated output feature map and CRF transition and emission values, then each of these time step outputs will need to be decoded into a path through potential tags and a final score determined. This is the purpose of the Viterbi algorithm, here, which is commonly used in conjunction with CRFs.\n",
    "\n",
    "Specifically, the Viterbi algorithm finds the optimal path through a sequence given a cost function by tracing backwards through a graph of all possible paths. There are computational tricks to finding this path in the high dimensional space and we will see this in the code below (_viterbi_decode).\n",
    "\n",
    "Here, let's see a simple example of just the Viterbi algorithm. The simplicity of Viterbi is that at each time step, it \"looks to the left\" to find that best path and then moves to the right, repeating this \"look to the left\" until a \"survivor path\" or optimal path is found with the last column being the possible tags. The score may also be found by tracing backwards along this path and using the metric decided upon.\n",
    "\n",
    "In this example the optimal score (via a metric) is the lowest one, however, one could also look for the highest scoring path if another metric is used as is shown next.\n",
    "\n",
    "![](data/viterbi.png)\n",
    "\n",
    "Getting more realistic...\n",
    "\n",
    "With regards to our NER work here, below is an example of a \"survivor\" path within the context of the linear-CRF where we are trying to find the highest scoring path through a sequence (giving us the tags and final score). The transition matrix values are represented by the arrows and a sequence vector is shown as part of the overall cost function.\n",
    "\n",
    "![](data/linear_crf_example.png)"
   ],
   "cell_type": "markdown",
   "metadata": {}
  },
  {
   "source": [
    "### Putting it All Together\n",
    "Here we have word embeddings as the data for the forward and reverse LSTMs. The resulting forward vector (V_f) and backwards vector (V_b or Output layer, here) are concatenated into a final vector (V_o) that feeds into the CRF layer and is decoded via the Viterbi algorithm (part of CRF layer) into the optimal tag for that input. Note, the initial values for the Hidden inputs for each LSTM (forward and reverse) are often a vector of random numbers.\n",
    "\n",
    "![](data/together.png)"
   ],
   "cell_type": "markdown",
   "metadata": {}
  },
  {
   "cell_type": "code",
   "execution_count": 1,
   "metadata": {},
   "outputs": [
    {
     "output_type": "execute_result",
     "data": {
      "text/plain": [
       "{'/Users/hzh/opt/anaconda3/envs/pytorch_env/bin/python'}"
      ]
     },
     "metadata": {},
     "execution_count": 1
    }
   ],
   "source": [
    "import sys\n",
    "{sys.executable}"
   ]
  },
  {
   "cell_type": "code",
   "execution_count": 2,
   "metadata": {},
   "outputs": [],
   "source": [
    "import torch\n",
    "import torch.nn as nn \n",
    "import torch.autograd as autograd\n",
    "import torch.optim as optim \n",
    "import json\n",
    "import math\n",
    "import numpy as np \n",
    "from collections import defaultdict, OrderedDict"
   ]
  },
  {
   "cell_type": "code",
   "execution_count": 3,
   "metadata": {},
   "outputs": [
    {
     "output_type": "execute_result",
     "data": {
      "text/plain": [
       "device(type='cpu')"
      ]
     },
     "metadata": {},
     "execution_count": 3
    }
   ],
   "source": [
    "# If we have a CUDA capable GPU, let's use it! Initialize an object device to use later on tensors and models.\n",
    "device = torch.device(\"cuda:0\" if torch.cuda.is_available() else \"cpu\")\n",
    "device"
   ]
  },
  {
   "source": [
    "## Data\n",
    "The data for this notebook came from [GitHub issues](https://github.com/tensorflow/tensorflow/issues) for Tensorflow and [issues for PyTorch](https://github.com/pytorch/pytorch/issues)- sentences in which inline code was found.\n",
    "\n",
    "**Problem statement**: Predict in a corpus, what parts are Python code snippets - i.e. Python code is an entity we are trying to identify in text.\n",
    "\n",
    "## Labeling data\n",
    "### Install notes (tested on Mac Mojave):\n",
    "\n",
    "Install doccano into a Python environment (a virtual environment for e.g.) (follow Option 2)\n",
    "* Create the virtual environment (recommended) or use a conda environment/native (Python 3.6+)\n",
    "* Make sure to first install:\n",
    "  * Postgres app\n",
    "  * sudo pip install psycopg2 to install ps_config (needed by doccano install)\n",
    "\n",
    "* Then proceed with rest of local install (Option 2)\n",
    "\n",
    "Run the app according to the Usage instructions in the doccano Readme\n",
    "  * NOTE: python3 may have to be substituted for using python command for using a venv\n",
    "  * NOTE: there must not be any empty lines in import data\n",
    "Labeled data in the doccano app will look similar to:\n",
    "\n",
    "Labeled data in the doccano app will look similar to:\n",
    "\n",
    "![](data/doccano_label.png)\n"
   ],
   "cell_type": "markdown",
   "metadata": {}
  },
  {
   "source": [
    "## Convert doccano exported data to training data format\n",
    "**doccano** exports as json with one input datum plus labels per line where:\n",
    "\n",
    "* id is the datum or corpus numerical id\n",
    "* text is the issue snippet or corpus\n",
    "* annotations are the labels and indices of each word/element in the single corpus - the start_offset and end_offset are used to find the words in the sentence. This will get the data in the correct for training.\n",
    "\n",
    "\n",
    "Read the data file and print one line"
   ],
   "cell_type": "markdown",
   "metadata": {}
  },
  {
   "cell_type": "code",
   "execution_count": 4,
   "metadata": {},
   "outputs": [
    {
     "output_type": "stream",
     "name": "stdout",
     "text": [
      "{'id': 35, 'text': \"Now, I'm ready to move this to a serving environment (via Sagemaker, but that just implements tensorflow.serving).\", 'annotations': [{'label': 4, 'start_offset': 0, 'end_offset': 3, 'user': 1}, {'label': 4, 'start_offset': 5, 'end_offset': 8, 'user': 1}, {'label': 4, 'start_offset': 9, 'end_offset': 14, 'user': 1}, {'label': 4, 'start_offset': 15, 'end_offset': 17, 'user': 1}, {'label': 4, 'start_offset': 18, 'end_offset': 22, 'user': 1}, {'label': 4, 'start_offset': 23, 'end_offset': 27, 'user': 1}, {'label': 4, 'start_offset': 28, 'end_offset': 30, 'user': 1}, {'label': 4, 'start_offset': 31, 'end_offset': 32, 'user': 1}, {'label': 4, 'start_offset': 33, 'end_offset': 40, 'user': 1}, {'label': 4, 'start_offset': 41, 'end_offset': 52, 'user': 1}, {'label': 4, 'start_offset': 54, 'end_offset': 57, 'user': 1}, {'label': 4, 'start_offset': 58, 'end_offset': 67, 'user': 1}, {'label': 4, 'start_offset': 69, 'end_offset': 72, 'user': 1}, {'label': 4, 'start_offset': 73, 'end_offset': 77, 'user': 1}, {'label': 4, 'start_offset': 78, 'end_offset': 82, 'user': 1}, {'label': 4, 'start_offset': 83, 'end_offset': 93, 'user': 1}, {'label': 2, 'start_offset': 94, 'end_offset': 112, 'user': 1}], 'meta': {}}\n"
     ]
    }
   ],
   "source": [
    "with open('data/doccano_export.json', 'r') as f:\n",
    "    lines = f.readlines()\n",
    "\n",
    "print(json.loads(lines[1]))"
   ]
  },
  {
   "cell_type": "code",
   "execution_count": 5,
   "metadata": {},
   "outputs": [
    {
     "output_type": "execute_result",
     "data": {
      "text/plain": [
       "dict"
      ]
     },
     "metadata": {},
     "execution_count": 5
    }
   ],
   "source": [
    "type(json.loads(lines[0]))"
   ]
  },
  {
   "source": [
    "Split out words and labels"
   ],
   "cell_type": "markdown",
   "metadata": {}
  },
  {
   "cell_type": "code",
   "execution_count": 6,
   "metadata": {
    "tags": []
   },
   "outputs": [],
   "source": [
    "# The numerical doccano label to actual label (B-I-O scheme)\n",
    "ix_to_label = {4: 'O', 3:'I', 2:'B'}\n",
    "\n",
    "# train/test data\n",
    "data = []\n",
    "\n",
    "# Vocabulary\n",
    "vocab = set()\n",
    "\n",
    "# Loop over each data point (a corpus of labeled text) to extract words\n",
    "for line in lines:\n",
    "    # An ordered dict will keep items in order for further manipulation\n",
    "    orddict = OrderedDict({})\n",
    "    # list to hold the words and labels\n",
    "    words = []\n",
    "    labels = []\n",
    "    # convert line to json\n",
    "    injson = json.loads(line)\n",
    "    annots = injson['annotations']\n",
    "    text = injson['text']\n",
    "\n",
    "    # Add each word annotation to OrderedDict\n",
    "    for ann in annots:\n",
    "        orddict[ann['start_offset']] = ann # ann is dict\n",
    "\n",
    "    # Sort ordered dict because there's no guarantee reading json\n",
    "    # maintained order\n",
    "    orddict = sorted(orddict.items(), key=lambda x: x[1]['start_offset'])\n",
    "\n",
    "    for item in orddict:\n",
    "        # the item is a tuple where second value is the actual value we want\n",
    "        ann = item[1]\n",
    "        # subset text string\n",
    "        word = text[ann['start_offset']: (ann['end_offset']+1)].rstrip()\n",
    "        label = ix_to_label[ann['label']]\n",
    "\n",
    "        # Add to list for this corpus\n",
    "        words.append(word)\n",
    "        labels.append(label)\n",
    "        vocab.add(word)\n",
    "\n",
    "    data.append((words, labels))"
   ]
  },
  {
   "cell_type": "code",
   "execution_count": 7,
   "metadata": {},
   "outputs": [
    {
     "output_type": "execute_result",
     "data": {
      "text/plain": [
       "(10, 10)"
      ]
     },
     "metadata": {},
     "execution_count": 7
    }
   ],
   "source": [
    "len(data), len(lines)"
   ]
  },
  {
   "cell_type": "code",
   "execution_count": 8,
   "metadata": {},
   "outputs": [
    {
     "output_type": "execute_result",
     "data": {
      "text/plain": [
       "(['This',\n",
       "  'makes',\n",
       "  'it',\n",
       "  'harder',\n",
       "  'to',\n",
       "  'understand',\n",
       "  'the',\n",
       "  'behavior',\n",
       "  'of',\n",
       "  'the',\n",
       "  'function',\n",
       "  'tf.scatter_add',\n",
       "  'in',\n",
       "  'case',\n",
       "  'indices',\n",
       "  'is',\n",
       "  'a',\n",
       "  'matrix.',\n",
       "  'Specifically,',\n",
       "  'what',\n",
       "  'is',\n",
       "  'the',\n",
       "  'difference',\n",
       "  'between',\n",
       "  'tf.scatter_add',\n",
       "  'and',\n",
       "  'tf.scatter_nd w',\n",
       "  'when',\n",
       "  'indices',\n",
       "  'is',\n",
       "  'a',\n",
       "  'matrix.',\n",
       "  'This',\n",
       "  'will',\n",
       "  'raise',\n",
       "  'an',\n",
       "  'error',\n",
       "  'that',\n",
       "  'only',\n",
       "  'sequential',\n",
       "  'or',\n",
       "  'functional',\n",
       "  'models',\n",
       "  'can',\n",
       "  'be',\n",
       "  'saved',\n",
       "  \"model.save('custom_model.h5')\"],\n",
       " ['O',\n",
       "  'O',\n",
       "  'O',\n",
       "  'O',\n",
       "  'O',\n",
       "  'O',\n",
       "  'O',\n",
       "  'O',\n",
       "  'O',\n",
       "  'O',\n",
       "  'O',\n",
       "  'B',\n",
       "  'O',\n",
       "  'O',\n",
       "  'O',\n",
       "  'O',\n",
       "  'O',\n",
       "  'O',\n",
       "  'O',\n",
       "  'O',\n",
       "  'O',\n",
       "  'O',\n",
       "  'O',\n",
       "  'O',\n",
       "  'B',\n",
       "  'O',\n",
       "  'B',\n",
       "  'O',\n",
       "  'O',\n",
       "  'O',\n",
       "  'O',\n",
       "  'O',\n",
       "  'O',\n",
       "  'O',\n",
       "  'O',\n",
       "  'O',\n",
       "  'O',\n",
       "  'O',\n",
       "  'O',\n",
       "  'O',\n",
       "  'O',\n",
       "  'O',\n",
       "  'O',\n",
       "  'O',\n",
       "  'O',\n",
       "  'O',\n",
       "  'B'])"
      ]
     },
     "metadata": {},
     "execution_count": 8
    }
   ],
   "source": [
    "data[0]"
   ]
  },
  {
   "source": [
    "Split into train and test data\n",
    "\n"
   ],
   "cell_type": "markdown",
   "metadata": {}
  },
  {
   "cell_type": "code",
   "execution_count": 9,
   "metadata": {},
   "outputs": [],
   "source": [
    "from sklearn.model_selection import train_test_split"
   ]
  },
  {
   "cell_type": "code",
   "execution_count": 10,
   "metadata": {},
   "outputs": [],
   "source": [
    "training_data, test_data = train_test_split(data, test_size=0.2, random_state=1)"
   ]
  },
  {
   "cell_type": "code",
   "execution_count": 11,
   "metadata": {},
   "outputs": [
    {
     "output_type": "execute_result",
     "data": {
      "text/plain": [
       "8"
      ]
     },
     "metadata": {},
     "execution_count": 11
    }
   ],
   "source": [
    "len(training_data)"
   ]
  },
  {
   "source": [
    "## Train\n",
    "### Create the Network\n",
    "Tags and hyperparameters"
   ],
   "cell_type": "markdown",
   "metadata": {}
  },
  {
   "cell_type": "code",
   "execution_count": 13,
   "metadata": {},
   "outputs": [],
   "source": [
    "START_TAG = \"<START>\"\n",
    "STOP_TAG = \"<STOP>\"\n",
    "EMBEDDING_DIM = 5\n",
    "HIDDEN_DIM = 4\n",
    "MINIBATCH_SIZE = 2\n",
    "LEARNING_RATE = 5e-2\n",
    "WEIGHT_DECAY = 1e-4"
   ]
  },
  {
   "source": [
    "### Helper Functions"
   ],
   "cell_type": "markdown",
   "metadata": {}
  },
  {
   "cell_type": "code",
   "execution_count": 14,
   "metadata": {},
   "outputs": [],
   "source": [
    "def argmax(vec):\n",
    "    \"\"\"Return the argmax as a python int\"\"\"\n",
    "    _, idx = torch.max(vec, 1)\n",
    "    return idx.item()\n",
    "\n",
    "def prepare_sequence(seq, to_ix):\n",
    "    \"\"\"\n",
    "    Input:\n",
    "        seq - the sequence (array)\n",
    "        to_ix - the indices to which seqence values are converted (dict)\n",
    "\n",
    "    Output:\n",
    "        Numerical tensor\n",
    "    \"\"\"\n",
    "    idxs = [to_ix[w] for w in seq]\n",
    "    return torch.tensor(idxs, dtype=torch.long)\n",
    "\n",
    "def log_sum_exp(vec):\n",
    "    \"\"\"Compute log sum exp in a numerically stable way for \n",
    "    the forward algorithm\"\"\"\n",
    "    max_score = vec[0, argmax(vec)]\n",
    "    max_score_broadcast = max_score.view(1,-1).expand(1, vec.size()[1])\n",
    "    return max_score + \\\n",
    "        torch.log(torch.sum(torch.exp(vec - max_score_broadcast)))"
   ]
  },
  {
   "cell_type": "code",
   "execution_count": 15,
   "metadata": {},
   "outputs": [
    {
     "output_type": "execute_result",
     "data": {
      "text/plain": [
       "2"
      ]
     },
     "metadata": {},
     "execution_count": 15
    }
   ],
   "source": [
    "5 // 2"
   ]
  },
  {
   "cell_type": "code",
   "execution_count": 17,
   "metadata": {},
   "outputs": [],
   "source": [
    "class BiLSTM_CRF(nn.Module):\n",
    "    def __init__(self, vocab_size, tag_to_ix, embedding_dim, hidden_dim):\n",
    "        super(BiLSTM_CRF, self).__init__()\n",
    "        self.embedding_dim = embedding_dim\n",
    "        self.hidden_dim = hidden_dim\n",
    "        self.vocab_size = vocab_size\n",
    "        self.tag_to_ix = tag_to_ix\n",
    "        self.tagset_size = len(tag_to_ix)\n",
    "\n",
    "        self.word_embeds = nn.Embedding(vocab_size, embedding_dim)\n",
    "        self.lstm = nn.LSTM(embedding_dim, hidden_dim // 2, num_layers=1, bidirectional=True)\n",
    "\n",
    "        # Maps the output of the LSTM into tag space\n",
    "        self.hidden2tag = nn.Linear(hidden_dim, self.tagset_size)\n",
    "\n",
    "        # Matrix of transition parameters.  Entry i,j is the score of\n",
    "        # transitioning *to* i *from* j.\n",
    "        self.transitions = nn.Parameter(torch.randn(self.tagset_size, self.tagset_size))\n",
    "\n",
    "        # These two statements enforce the constraint that we never transfer\n",
    "        # to the start tag and we never transfer from the stop tag\n",
    "        self.transitions.data[tag_to_ix[START_TAG], :] = -10000\n",
    "        self.transitions.data[:, tag_to_ix[STOP_TAG]] = -10000\n",
    "\n",
    "        self.hidden = self.init_hidden()\n",
    "\n",
    "\n",
    "    def init_hidden(self):\n",
    "        \"\"\"Two tensors to hold hidden states, one for each\n",
    "        LSTM direction with dimensions of (num_layers, \n",
    "        minibatch, hidden_dim)\"\"\"\n",
    "        return (torch.randn(2, 1, self.hidden_dim // 2).to(device),\n",
    "                torch.randn(2, 1, self.hidden_dim // 2).to(device))\n",
    "        \n",
    "\n",
    "    def _forward_alg(self, feats):\n",
    "        \"\"\"Core magic of the Conditional Random Field.  \n",
    "    \n",
    "        Input:\n",
    "            The word embeddeding vectors for a sentence\n",
    "        \n",
    "        Since we’re using PyTorch to compute gradients for us, \n",
    "        we technically only need the forward part of the forward-backward \n",
    "        algorithm \"\"\"\n",
    "        # Do the forward algorithm to compute the partition function\n",
    "        init_alphas = torch.full((1, self.tagset_size), -10000.).to(device)\n",
    "        # START_TAG (\"<START>\") has all of the score.\n",
    "        init_alphas[0][self.tag_to_ix[START_TAG]] = 0.\n",
    "\n",
    "        forward_var = init_alphas\n",
    "\n",
    "        # Iterate through the sentence\n",
    "        for feat in feats:\n",
    "            alphas_t = [] # The forward tensors at this timestep\n",
    "            for next_tag in range(self.tagset_size):\n",
    "                # broadcast the emission score: it is the same regardless of\n",
    "                # the previous tag\n",
    "                emit_score = feat[next_tag].view(1,-1).expand(1, self.tagset_size)\n",
    "                # the ith entry of trans_score is the score of transitioning to\n",
    "                # next_tag from i\n",
    "                trans_score = self.transitions[next_tag].view(1,-1)\n",
    "                # The ith entry of next_tag_var is the value for the\n",
    "                # edge (i -> next_tag) before we do log-sum-exp\n",
    "                next_tag_var = forward_var + trans_score + emit_score\n",
    "                # The forward variable for this tag is log-sum-exp of all the\n",
    "                # scores.\n",
    "                alphas_t.append(log_sum_exp(next_tag_var).view(1))\n",
    "            forward_var = torch.cat(alphas_t).view(1,-1)\n",
    "        terminal_var = forward_var + self.transitions[self.tag_to_ix[STOP_TAG]]\n",
    "        alpha = log_sum_exp(terminal_var)\n",
    "        return alpha\n",
    "\n",
    "\n",
    "\n",
    "    def _get_lstm_features(self, sentence):\n",
    "        \"\"\"Compute output vector of BiLSTM - used in \n",
    "        the forward pass of network\"\"\"\n",
    "\n",
    "        self.hidden = self.init_hidden()\n",
    "        embeds = self.word_embeds(sentence).view(len(sentence), 1, -1)\n",
    "        lstm_out, self.hidden = self.lstm(embeds, self.hidden)\n",
    "        lstm_out = lstm_out.view(len(sentence), self.hidden_dim)\n",
    "        # Map LSTM features into tag space\n",
    "        lstm_feats = self.hidden2tag(lstm_out)\n",
    "        return lstm_feats\n",
    "\n",
    "    def _score_sentence(self, feats, tags):\n",
    "        \"\"\"Gives the score of a provided tag sequence\"\"\"\n",
    "        # Gives the score of a provided tag sequence\n",
    "        score = torch.zeros(1).to(device)\n",
    "        tags = torch.cat([torch.tensor([self.tag_to_ix[START_TAG]], dtype=torch.long).to(device), \n",
    "                        tags])\n",
    "        for i, feat in enumerate(feats):\n",
    "            score = score + \\\n",
    "                self.transitions[tags[i + 1], tags[i]] + feat[tags[i + 1]]\n",
    "        score = score + self.transitions[self.tag_to_ix[STOP_TAG], tags[-1]]\n",
    "        return score\n",
    "\n",
    "    def _viterbi_decode(self, feats):\n",
    "        \"\"\"Implements Viterbi algorithm for finding most likely sequence of labels.\n",
    "        Used in the forward pass of the network.\n",
    "\n",
    "        We take the maximum over the previous states as opposed to the sum. \n",
    "        Input:\n",
    "            loglikelihoods: torch tensor.\n",
    "        Output:\n",
    "            tuple. The first entry is the loglikelihood of this sequence. The second is \n",
    "            the most likely sequence of labels. \n",
    "        \"\"\"\n",
    "        backpointers = []\n",
    "\n",
    "        # Initialize the viterbi variables in log space\n",
    "        init_vvars = torch.full((1, self.tagset_size), -10000.).to(device)\n",
    "        init_vvars[0][self.tag_to_ix[START_TAG]] = 0\n",
    "\n",
    "        # forward_var at step i holds the viterbi variables for step i-1\n",
    "        forward_var = init_vvars\n",
    "        for feat in feats:\n",
    "            bptrs_t = []  # holds the backpointers for this step\n",
    "            viterbivars_t = []  # holds the viterbi variables for this step\n",
    "\n",
    "            for next_tag in range(self.tagset_size):\n",
    "                # next_tag_var[i] holds the viterbi variable for tag i at the\n",
    "                # previous step, plus the score of transitioning\n",
    "                # from tag i to next_tag.\n",
    "                # We don't include the emission scores here because the max\n",
    "                # does not depend on them (we add them in below)\n",
    "                next_tag_var = forward_var + self.transitions[next_tag]\n",
    "                best_tag_id = argmax(next_tag_var)\n",
    "                bptrs_t.append(best_tag_id)\n",
    "                viterbivars_t.append(next_tag_var[0][best_tag_id].view(1))\n",
    "            # Now add in the emission scores, and assign forward_var to the set\n",
    "            # of viterbi variables we just computed\n",
    "            forward_var = (torch.cat(viterbivars_t) + feat).view(1, -1).to(device)\n",
    "            backpointers.append(bptrs_t)\n",
    "\n",
    "        # Transition to STOP_TAG\n",
    "        terminal_var = forward_var + self.transitions[self.tag_to_ix[STOP_TAG]]\n",
    "        best_tag_id = argmax(terminal_var)\n",
    "        path_score = terminal_var[0][best_tag_id]\n",
    "\n",
    "        # Follow the back pointers to decode the best path.\n",
    "        best_path = [best_tag_id]\n",
    "        for bptrs_t in reversed(backpointers):\n",
    "            best_tag_id = bptrs_t[best_tag_id]\n",
    "            best_path.append(best_tag_id)\n",
    "        # Pop off the start tag (we dont want to return that to the caller)\n",
    "        start = best_path.pop()\n",
    "        assert start == self.tag_to_ix[START_TAG]  # Sanity check\n",
    "        best_path.reverse()\n",
    "        return path_score, best_path\n",
    "\n",
    "    def neg_log_likelihood(self, sentence, tags):\n",
    "        \"\"\"Calculate the negative log likelihood given a sequence and labels.\n",
    "        This is used in training (only) because we don't need to create\n",
    "        and check the B-I-O tags themselves - only the score is important\n",
    "        here for calculating the loss.\"\"\"\n",
    "        feats = self._get_lstm_features(sentence)\n",
    "        forward_score = self._forward_alg(feats)\n",
    "        gold_score = self._score_sentence(feats, tags)\n",
    "        return forward_score - gold_score\n",
    "\n",
    "    def forward(self, sentence):\n",
    "        \"\"\"The forward pass function for training the network.\n",
    "        This is used in inference only.\"\"\"\n",
    "        # Get the emission scores (output layer) from the \n",
    "        # BiLSTM \n",
    "        lstm_feats = self._get_lstm_features(sentence)\n",
    "\n",
    "        # Find the best path, given the features.\n",
    "        score, tag_seq = self._viterbi_decode(lstm_feats)\n",
    "        return score, tag_seq"
   ]
  },
  {
   "cell_type": "code",
   "execution_count": 18,
   "metadata": {},
   "outputs": [],
   "source": [
    "\n",
    "def remove_punct(text):\n",
    "    \"\"\"Remove punctuation from a piece of text\"\"\"\n",
    "    punct = list(\".,()-\")\n",
    "    for p in punct:\n",
    "        text = text.replace(p, '')\n",
    "    return text\n",
    "    \n",
    "text = remove_punct(text)"
   ]
  },
  {
   "cell_type": "code",
   "execution_count": 20,
   "metadata": {},
   "outputs": [],
   "source": [
    "# Create a lookup dict for all possible words and record their index\n",
    "word_to_ix = {k: v for (k, v) in zip(vocab, range(len(vocab)))}\n",
    "tag_to_ix = {\"B\": 0, \"I\": 1, \"O\": 2, START_TAG: 3, STOP_TAG: 4}\n",
    "ix_to_tag = {0: \"B\", 1: \"I\", 2: \"O\"}"
   ]
  },
  {
   "source": [
    "Initialize model and optimizer for training\n",
    "\n"
   ],
   "cell_type": "markdown",
   "metadata": {}
  },
  {
   "cell_type": "code",
   "execution_count": 21,
   "metadata": {},
   "outputs": [],
   "source": [
    "model = BiLSTM_CRF(len(word_to_ix), tag_to_ix, EMBEDDING_DIM, HIDDEN_DIM)\n",
    "model = model.to(device)\n",
    "optimizer = optim.SGD(model.parameters(), lr=LEARNING_RATE, weight_decay=WEIGHT_DECAY)"
   ]
  },
  {
   "cell_type": "code",
   "execution_count": 25,
   "metadata": {},
   "outputs": [
    {
     "output_type": "stream",
     "name": "stdout",
     "text": [
      "Prediction:    ['O', 'B', 'I', 'O', 'B', 'I', 'O', 'B', 'I', 'O', 'B', 'I', 'O', 'B', 'I', 'O', 'B', 'I', 'O', 'B', 'I', 'O', 'B', 'I', 'O', 'B', 'I', 'O', 'B', 'I', 'O', 'B', 'I', 'O', 'B', 'I', 'O', 'B', 'I', 'O', 'B', 'I', 'O', 'B', 'I']\nGround truth:  ['O', 'O', 'O', 'O', 'O', 'O', 'O', 'O', 'O', 'O', 'B', 'O', 'O', 'B', 'O', 'O', 'O', 'O', 'O', 'O', 'O', 'O', 'O', 'O', 'O', 'O', 'O', 'O', 'O', 'O', 'O', 'O', 'O', 'O', 'O', 'O', 'O', 'O', 'O', 'B', 'O', 'B', 'O', 'O', 'O']\n['I', 'am', 'encountering', 'serialization', 'issues', 'when', 'trying', 'to', 'dump', 'the', 'config', 'from', 'a', 'tf.keras.Model', 'object', 'without', 'complex', 'things', 'like', 'custom', 'layers', 'or', 'even', 'Lambdas...)', 'The', 'code', 'worked', 'well', 'with', 'tf', '1.13.1', 'however', 'in', 'tf', '1.1.4,', 'json/yaml', 'serialization', 'fails,', 'and', 'to_yaml', 'and', 'model_from_yaml', 'fails', 'as', 'well.']\n"
     ]
    }
   ],
   "source": [
    "# Check predictions before training\n",
    "with torch.no_grad():\n",
    "    precheck_sent = prepare_sequence(training_data[0][0], word_to_ix)\n",
    "    precheck_sent = precheck_sent.to(device)\n",
    "    pred =  model(precheck_sent)[1]\n",
    "    print('Prediction:   ', [ix_to_tag[idx] for idx in pred])\n",
    "    print('Ground truth: ', training_data[0][1])\n",
    "    print(training_data[0][0])"
   ]
  },
  {
   "source": [
    "Train model!\n",
    "\n",
    "IMPORTANT NOTE: If at workshop, please keep the number of epochs at or below 100 to save on the shared GPU usage."
   ],
   "cell_type": "markdown",
   "metadata": {}
  },
  {
   "cell_type": "code",
   "execution_count": 26,
   "metadata": {},
   "outputs": [
    {
     "output_type": "stream",
     "name": "stdout",
     "text": [
      "Epoch: 10 Loss: 10.245667743682862\n",
      "Epoch: 20 Loss: 8.522390365600586\n",
      "Epoch: 30 Loss: 6.6421278317769366\n",
      "Epoch: 40 Loss: 5.2047775983810425\n",
      "Epoch: 50 Loss: 4.243495445251465\n",
      "Epoch: 60 Loss: 3.5771653334299724\n",
      "Epoch: 70 Loss: 3.0889570917401996\n",
      "Epoch: 80 Loss: 2.7218976974487306\n",
      "Epoch: 90 Loss: 2.4339389589097764\n",
      "Epoch: 100 Loss: 2.1993683052062987\n",
      "CPU times: user 40 s, sys: 426 ms, total: 40.4 s\n",
      "Wall time: 41.8 s\n"
     ]
    }
   ],
   "source": [
    "%%time\n",
    "# Make sure prepare_sequence from earlier in the LSTM section is loaded\n",
    "# again, normally you would do more than 300 epochs, but we have\n",
    "# toy data\n",
    "\n",
    "losses = []\n",
    "for epoch in range(100):  \n",
    "    for sentence, tags in training_data:\n",
    "        # Step 1. Remember that Pytorch accumulates gradients.\n",
    "        # We need to clear them out before each instance of LSTM\n",
    "        model.zero_grad()\n",
    "\n",
    "        # Step 2. Get our inputs ready for the network, that is,\n",
    "        # turn them into Tensors of word indices.\n",
    "        sentence_in = prepare_sequence(sentence, word_to_ix)\n",
    "        targets = torch.tensor([tag_to_ix[t] for t in tags], dtype=torch.long)\n",
    "        sentence_in, targets = sentence_in.to(device), targets.to(device)\n",
    "\n",
    "        # Step 3. A lot happens.  Run our forward pass to get features from BLSTM,\n",
    "        # run the CRF and get the negative log likelihoods and find the best \n",
    "        # \"path\" through sentence with the tags using the viterbi algorithm \n",
    "        # (also part of forward pass).\n",
    "        # BTW our dynamic computational graph is created with the forward pass\n",
    "        # Returns the forward score - ground truth score (our loss measure)\n",
    "        loss = model.neg_log_likelihood(sentence_in, targets)\n",
    "        losses.append(loss.item())\n",
    "\n",
    "\n",
    "        # Step 4. Compute the loss, gradients (backprop), and update the \n",
    "        # parameters by calling optimizer.step() - optimizer here is \n",
    "        # SGD for our CRF\n",
    "        loss.backward()\n",
    "        optimizer.step()\n",
    "\n",
    "    if (epoch+1) % 10 == 0:\n",
    "        print(\"Epoch: {} Loss: {}\".format(epoch+1, np.mean(losses)))"
   ]
  },
  {
   "source": [
    "Sanity check\n",
    "\n",
    "You must call model.eval() to set dropout and batch normalization layers to evaluation mode before running inference. Failing to do this will yield inconsistent inference results."
   ],
   "cell_type": "markdown",
   "metadata": {}
  },
  {
   "cell_type": "code",
   "execution_count": 27,
   "metadata": {},
   "outputs": [
    {
     "output_type": "stream",
     "name": "stdout",
     "text": [
      "Prediction:    ['O', 'O', 'B', 'O', 'O', 'B', 'O', 'O', 'O', 'O', 'O', 'O', 'O', 'O', 'O', 'O', 'O', 'O', 'O', 'O', 'O', 'O', 'O']\nGround truth:  ['O', 'O', 'B', 'O', 'O', 'B', 'O', 'O', 'O', 'O', 'O', 'O', 'O', 'O', 'O', 'O', 'O', 'O', 'O', 'O', 'O', 'O', 'O']\n['Please', 'use', 'tf.train.Checkpoint', 'rather', 'than', 'tf.train.Saver', 'to', 'save', 'objects:', 'https://www.tensorflow.org/beta/guide/checkpoints', 'the', 'guide', 'is', 'for', '2.x,', 'but', 'the', 'APIs', 'are', 'in', '1.x', 'as', 'well)']\n"
     ]
    }
   ],
   "source": [
    "model.eval()\n",
    "\n",
    "# Sanity check for predictions after training\n",
    "# No need to accumulate gradients because this is a validation\n",
    "with torch.no_grad():\n",
    "    precheck_sent = prepare_sequence(training_data[1][0], word_to_ix)\n",
    "    precheck_sent = precheck_sent.to(device)\n",
    "    pred =  model(precheck_sent)[1]\n",
    "    print('Prediction:   ', [ix_to_tag[idx] for idx in pred])\n",
    "    print('Ground truth: ', training_data[1][1])\n",
    "    print(training_data[1][0])"
   ]
  },
  {
   "source": [
    "## Evaluate\n",
    "Let's test our model on an unseen sentence."
   ],
   "cell_type": "markdown",
   "metadata": {}
  },
  {
   "cell_type": "code",
   "execution_count": null,
   "metadata": {},
   "outputs": [],
   "source": [
    "model.eval() # set again just in case\n",
    "\n",
    "# Pick some test data\n",
    "test_datum = test_data[0][0]\n",
    "test_text = test_data[0][1]\n",
    "\n",
    "with torch.no_grad():\n",
    "    precheck_sent = prepare_sequence(test_datum, word_to_ix)\n",
    "    precheck_sent = precheck_sent.to(device)\n",
    "    pred =  model(precheck_sent)[1]\n",
    "    print('Prediction:   ', [ix_to_tag[idx] for idx in pred])\n",
    "    print('Ground truth: ', test_text)\n",
    "    print('Text: ', test_datum)"
   ]
  }
 ]
}