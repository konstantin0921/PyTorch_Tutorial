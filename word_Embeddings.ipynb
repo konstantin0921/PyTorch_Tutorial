{
 "metadata": {
  "language_info": {
   "codemirror_mode": {
    "name": "ipython",
    "version": 3
   },
   "file_extension": ".py",
   "mimetype": "text/x-python",
   "name": "python",
   "nbconvert_exporter": "python",
   "pygments_lexer": "ipython3",
   "version": "3.7.9-final"
  },
  "orig_nbformat": 2,
  "kernelspec": {
   "name": "Python 3.7.9 64-bit ('pytorch_env': conda)",
   "display_name": "Python 3.7.9 64-bit ('pytorch_env': conda)",
   "metadata": {
    "interpreter": {
     "hash": "4186f74e01e939e2abb13312658e7bf0ac5f4e211937d1494f0d00c60e38bb4e"
    }
   }
  }
 },
 "nbformat": 4,
 "nbformat_minor": 2,
 "cells": [
  {
   "source": [
    "## Word Embeddings\n",
    "\n",
    "Word Embeddings are dense vectors representations of words.\n",
    "\n",
    "Word embeddings compress information so you have a more dense representation. Compare this to sparse vectors like One-Hot Encoding.\n"
   ],
   "cell_type": "markdown",
   "metadata": {}
  },
  {
   "cell_type": "code",
   "execution_count": 1,
   "metadata": {},
   "outputs": [
    {
     "output_type": "stream",
     "name": "stdout",
     "text": [
      "['the', 'quick', 'brown', 'fox', 'jumped', 'over', 'the', 'lazy', 'dog']\n"
     ]
    }
   ],
   "source": [
    "sentence = \"the quick brown fox jumped over the lazy dog\"\n",
    "\n",
    "words = sentence.split()\n",
    "print(words)"
   ]
  },
  {
   "source": [
    "Let's look at the individual words in our vocabulary:\n"
   ],
   "cell_type": "markdown",
   "metadata": {}
  },
  {
   "cell_type": "code",
   "execution_count": 2,
   "metadata": {},
   "outputs": [
    {
     "output_type": "stream",
     "name": "stdout",
     "text": [
      "['quick', 'fox', 'the', 'lazy', 'brown', 'dog', 'over', 'jumped']\n"
     ]
    }
   ],
   "source": [
    "vocab1 = list(set(words))\n",
    "print(vocab1)"
   ]
  },
  {
   "cell_type": "code",
   "execution_count": 3,
   "metadata": {},
   "outputs": [
    {
     "output_type": "execute_result",
     "data": {
      "text/plain": [
       "8"
      ]
     },
     "metadata": {},
     "execution_count": 3
    }
   ],
   "source": [
    "len(vocab1)"
   ]
  },
  {
   "source": [
    "## One Hot Encoding\n",
    "The vocabulary size is seen above. Now we can one-hot encode the vocabulary words. The good news is that PyTorch (As of December 2018) now has a built-in one-hot encoding module"
   ],
   "cell_type": "markdown",
   "metadata": {}
  },
  {
   "cell_type": "code",
   "execution_count": 4,
   "metadata": {},
   "outputs": [
    {
     "output_type": "execute_result",
     "data": {
      "text/plain": [
       "{'quick': 0,\n",
       " 'fox': 1,\n",
       " 'the': 2,\n",
       " 'lazy': 3,\n",
       " 'brown': 4,\n",
       " 'dog': 5,\n",
       " 'over': 6,\n",
       " 'jumped': 7}"
      ]
     },
     "metadata": {},
     "execution_count": 4
    }
   ],
   "source": [
    "# convert words to indexes\n",
    "word_to_ix1 = {word: i for i, word in enumerate(vocab1)}\n",
    "word_to_ix1"
   ]
  },
  {
   "cell_type": "code",
   "execution_count": 5,
   "metadata": {},
   "outputs": [
    {
     "output_type": "stream",
     "name": "stdout",
     "text": [
      "['quick', 'fox', 'the', 'lazy', 'brown', 'dog', 'over', 'jumped']\ntensor([0, 1, 2, 3, 4, 5, 6, 7])\ntensor([[1, 0, 0, 0, 0, 0, 0, 0],\n        [0, 1, 0, 0, 0, 0, 0, 0],\n        [0, 0, 1, 0, 0, 0, 0, 0],\n        [0, 0, 0, 1, 0, 0, 0, 0],\n        [0, 0, 0, 0, 1, 0, 0, 0],\n        [0, 0, 0, 0, 0, 1, 0, 0],\n        [0, 0, 0, 0, 0, 0, 1, 0],\n        [0, 0, 0, 0, 0, 0, 0, 1]])\n"
     ]
    }
   ],
   "source": [
    "import torch\n",
    "from torch.nn.functional import one_hot\n",
    "\n",
    "words = torch.tensor([word_to_ix1[w] for w in vocab1], dtype=torch.long)\n",
    "\n",
    "one_hot_encodding = one_hot(words)\n",
    "print(vocab1)\n",
    "print(words)\n",
    "print(one_hot_encodding)"
   ]
  },
  {
   "source": [
    "The issue with sparse one-hot encoding is that the vectors are very large and we have a very sparse representation of the vectors. As you can see there are a lot of zeros. For example, the popular data set WikiText-103 has 267,000 words in the vocabulary. This means around 267,000 zeros in each vector with one-hot encoding.\n",
    "\n",
    "We should try to find a smaller encoding for our dataset. Let's try a denser vector using a Word Embedding."
   ],
   "cell_type": "markdown",
   "metadata": {}
  },
  {
   "source": [
    "## Word Embedding Example\n"
   ],
   "cell_type": "markdown",
   "metadata": {}
  },
  {
   "cell_type": "code",
   "execution_count": 6,
   "metadata": {},
   "outputs": [],
   "source": [
    "# Context is the number of words we are using as a context for the next word we want to predict\n",
    "CONTEXT_SIZE = 2\n",
    "\n",
    "# Embedding dimension is the size of the embedding vector\n",
    "EMBEDDING_DIM = 10\n",
    "\n",
    "# Size of the hidden layer\n",
    "HIDDEN_DIM = 256"
   ]
  },
  {
   "cell_type": "code",
   "execution_count": 7,
   "metadata": {},
   "outputs": [
    {
     "output_type": "execute_result",
     "data": {
      "text/plain": [
       "75"
      ]
     },
     "metadata": {},
     "execution_count": 7
    }
   ],
   "source": [
    "# We will use Shakespeare Sonnet 2\n",
    "test_sentence = \"\"\"Tomorrow, and tomorrow, and tomorrow,\n",
    "Creeps in this petty pace from day to day,\n",
    "To the last syllable of recorded time;\n",
    "And all our yesterdays have lighted fools\n",
    "The way to dusty death. Out, out, brief candle!\n",
    "Life's but a walking shadow, a poor player,\n",
    "That struts and frets his hour upon the stage,\n",
    "And then is heard no more. It is a tale\n",
    "Told by an idiot, full of sound and fury,\n",
    "Signifying nothing.\n",
    "\"\"\".lower().split()\n",
    "\n",
    "len(test_sentence)"
   ]
  },
  {
   "cell_type": "code",
   "execution_count": 14,
   "metadata": {},
   "outputs": [
    {
     "output_type": "execute_result",
     "data": {
      "text/plain": [
       "['tomorrow,', 'and', 'tomorrow,', 'and', 'tomorrow,']"
      ]
     },
     "metadata": {},
     "execution_count": 14
    }
   ],
   "source": [
    "test_sentence[:5]"
   ]
  },
  {
   "cell_type": "code",
   "execution_count": 17,
   "metadata": {},
   "outputs": [
    {
     "output_type": "stream",
     "name": "stdout",
     "text": [
      "[(['tomorrow,', 'and'], 'tomorrow,'), (['and', 'tomorrow,'], 'and'), (['tomorrow,', 'and'], 'tomorrow,')]\n"
     ]
    }
   ],
   "source": [
    "# Build a list of tuples.  Each tuple is ([ word_i-2, word_i-1 ], target word)\n",
    "\n",
    "trigrams = [([test_sentence[i], test_sentence[i+1]], test_sentence[i+2])\n",
    "    for i in range(len(test_sentence)-2)\n",
    "]\n",
    "\n",
    "print(trigrams[:3])"
   ]
  },
  {
   "cell_type": "code",
   "execution_count": 18,
   "metadata": {},
   "outputs": [
    {
     "output_type": "execute_result",
     "data": {
      "text/plain": [
       "{'fools': 0,\n",
       " 'walking': 1,\n",
       " 'but': 2,\n",
       " 'an': 3,\n",
       " 'signifying': 4,\n",
       " 'dusty': 5,\n",
       " 'that': 6,\n",
       " 'idiot,': 7,\n",
       " 'yesterdays': 8,\n",
       " 'time;': 9,\n",
       " 'our': 10,\n",
       " 'by': 11,\n",
       " 'his': 12,\n",
       " 'tomorrow,': 13,\n",
       " 'nothing.': 14,\n",
       " 'no': 15,\n",
       " 'frets': 16,\n",
       " 'heard': 17,\n",
       " 'from': 18,\n",
       " 'in': 19,\n",
       " 'a': 20,\n",
       " 'poor': 21,\n",
       " 'then': 22,\n",
       " 'petty': 23,\n",
       " 'all': 24,\n",
       " 'to': 25,\n",
       " 'the': 26,\n",
       " 'way': 27,\n",
       " 'lighted': 28,\n",
       " 'is': 29,\n",
       " 'day': 30,\n",
       " 'fury,': 31,\n",
       " 'this': 32,\n",
       " 'and': 33,\n",
       " 'tale': 34,\n",
       " \"life's\": 35,\n",
       " 'hour': 36,\n",
       " 'full': 37,\n",
       " 'recorded': 38,\n",
       " 'stage,': 39,\n",
       " 'told': 40,\n",
       " 'have': 41,\n",
       " 'day,': 42,\n",
       " 'sound': 43,\n",
       " 'candle!': 44,\n",
       " 'player,': 45,\n",
       " 'upon': 46,\n",
       " 'last': 47,\n",
       " 'out,': 48,\n",
       " 'more.': 49,\n",
       " 'shadow,': 50,\n",
       " 'it': 51,\n",
       " 'pace': 52,\n",
       " 'syllable': 53,\n",
       " 'creeps': 54,\n",
       " 'of': 55,\n",
       " 'death.': 56,\n",
       " 'brief': 57,\n",
       " 'struts': 58}"
      ]
     },
     "metadata": {},
     "execution_count": 18
    }
   ],
   "source": [
    "vocab2 = list(set(test_sentence))\n",
    "\n",
    "word_to_ix2 = {word:i for i, word in enumerate(vocab2)}\n",
    "word_to_ix2"
   ]
  },
  {
   "source": [
    "## N-Gram Language Model\n",
    "An N-Gram is a sequence of words as in a sentence. This is useful because it gives us some context to train a deep learning classifier.\n",
    "\n",
    "Here's what a diagram of our n-gram deep learning model would look like:\n",
    "\n",
    "![n-gram deep learning model](data/network_next_word.png)\n",
    "\n"
   ],
   "cell_type": "markdown",
   "metadata": {}
  },
  {
   "source": [
    "## Training is based on preceding words\n",
    "Predict the probability of a word based on the words around it"
   ],
   "cell_type": "markdown",
   "metadata": {}
  },
  {
   "cell_type": "code",
   "execution_count": 19,
   "metadata": {},
   "outputs": [],
   "source": [
    "import torch\n",
    "import torch.nn as nn \n",
    "import torch.nn.functional as F \n",
    "import torch.optim as optim \n",
    "\n",
    "class NGramLanguageModeler(nn.Module):\n",
    "    def __init__(self, vocab_size, embedding_dim, context_size):\n",
    "        super(NGramLanguageModeler, self).__init__()\n",
    "        self.embeddings = nn.Embedding(vocab_size, embedding_dim)\n",
    "        self.linear1 = nn.Linear(context_size * embedding_dim, HIDDEN_DIM)\n",
    "        self.linear2 = nn.Linear(HIDDEN_DIM, vocab_size)\n",
    "\n",
    "    def forward(self, inputs):\n",
    "        embeds = self.embeddings(inputs).view((1, -1))\n",
    "        out = F.relu(self.linear1(embeds))\n",
    "        out = self.linear2(out)\n",
    "        log_probs = F.log_softmax(out, dim=1)\n",
    "        return log_probs"
   ]
  },
  {
   "cell_type": "code",
   "execution_count": 22,
   "metadata": {},
   "outputs": [],
   "source": [
    "learning_rate = 1e-3\n",
    "epochs = 25\n",
    "losses = []\n",
    "loss_function = nn.NLLLoss() # negative log likelihood + log_softmaxt = Cross Entropy\n",
    "\n",
    "model= NGramLanguageModeler(len(vocab2), EMBEDDING_DIM, CONTEXT_SIZE)\n",
    "optimizer = optim.SGD(model.parameters(), lr=learning_rate)"
   ]
  },
  {
   "cell_type": "code",
   "execution_count": 23,
   "metadata": {},
   "outputs": [
    {
     "output_type": "stream",
     "name": "stderr",
     "text": [
      "100%|██████████| 73/73 [00:00<00:00, 108.89it/s, loss=3.87]\n",
      "100%|██████████| 73/73 [00:00<00:00, 190.59it/s, loss=3.84]\n",
      "100%|██████████| 73/73 [00:00<00:00, 183.17it/s, loss=3.82]\n",
      "100%|██████████| 73/73 [00:00<00:00, 185.97it/s, loss=3.8]\n",
      "100%|██████████| 73/73 [00:00<00:00, 158.14it/s, loss=3.77]\n",
      "100%|██████████| 73/73 [00:00<00:00, 156.87it/s, loss=3.75]\n",
      "100%|██████████| 73/73 [00:00<00:00, 165.00it/s, loss=3.73]\n",
      "100%|██████████| 73/73 [00:00<00:00, 151.10it/s, loss=3.7]\n",
      "100%|██████████| 73/73 [00:00<00:00, 171.03it/s, loss=3.68]\n",
      "100%|██████████| 73/73 [00:00<00:00, 180.12it/s, loss=3.66]\n",
      "100%|██████████| 73/73 [00:00<00:00, 148.44it/s, loss=3.63]\n",
      "100%|██████████| 73/73 [00:00<00:00, 177.21it/s, loss=3.61]\n",
      "100%|██████████| 73/73 [00:00<00:00, 174.83it/s, loss=3.59]\n",
      "100%|██████████| 73/73 [00:00<00:00, 141.39it/s, loss=3.56]\n",
      "100%|██████████| 73/73 [00:00<00:00, 121.89it/s, loss=3.54]\n",
      "100%|██████████| 73/73 [00:00<00:00, 140.90it/s, loss=3.52]\n",
      "100%|██████████| 73/73 [00:00<00:00, 153.23it/s, loss=3.5]\n",
      "100%|██████████| 73/73 [00:00<00:00, 164.51it/s, loss=3.47]\n",
      "100%|██████████| 73/73 [00:00<00:00, 169.87it/s, loss=3.45]\n",
      "100%|██████████| 73/73 [00:00<00:00, 140.97it/s, loss=3.43]\n",
      "100%|██████████| 73/73 [00:00<00:00, 161.73it/s, loss=3.41]\n",
      "100%|██████████| 73/73 [00:00<00:00, 158.44it/s, loss=3.38]\n",
      "100%|██████████| 73/73 [00:00<00:00, 159.76it/s, loss=3.36]\n",
      "100%|██████████| 73/73 [00:00<00:00, 142.69it/s, loss=3.34]\n",
      "100%|██████████| 73/73 [00:00<00:00, 140.93it/s, loss=3.31]\n"
     ]
    }
   ],
   "source": [
    "from tqdm import tqdm\n",
    "\n",
    "for epoch in range(epochs):\n",
    "    total_loss = 0\n",
    "    iterator = tqdm(trigrams)\n",
    "    for context, target in iterator:\n",
    "        # (['When', 'forty'], 'winters')\n",
    "        # Step 1. Prepare the inputs to be passed to the model (i.e, turn the words\n",
    "        # into integer indices and wrap them in tensors)\n",
    "        context_idxs = torch.tensor([word_to_ix2[w] for w in context], dtype=torch.long)\n",
    "\n",
    "        # Step 2. Recall that torch *accumulates* gradients. Before passing in a\n",
    "        # new instance, you need to zero out the gradients from the old instance\n",
    "        optimizer.zero_grad()\n",
    "\n",
    "        # Step 3. forward pass, getting log probabilities over next words\n",
    "        log_probs = model(context_idxs)\n",
    "\n",
    "        # Step 4. loss\n",
    "        loss = loss_function(log_probs, torch.tensor([word_to_ix2[target]], dtype=torch.long))\n",
    "\n",
    "        # Step 5. backward pass\n",
    "        loss.backward()\n",
    "        optimizer.step()\n",
    "\n",
    "        total_loss += loss.item()\n",
    "        iterator.set_postfix(loss=float(loss))\n",
    "\n",
    "    losses.append(total_loss)"
   ]
  },
  {
   "cell_type": "code",
   "execution_count": 24,
   "metadata": {},
   "outputs": [
    {
     "output_type": "execute_result",
     "data": {
      "text/plain": [
       "NGramLanguageModeler(\n",
       "  (embeddings): Embedding(59, 10)\n",
       "  (linear1): Linear(in_features=20, out_features=256, bias=True)\n",
       "  (linear2): Linear(in_features=256, out_features=59, bias=True)\n",
       ")"
      ]
     },
     "metadata": {},
     "execution_count": 24
    }
   ],
   "source": [
    "# Check the structure of our model here\n",
    "model.eval()"
   ]
  },
  {
   "cell_type": "code",
   "execution_count": 25,
   "metadata": {},
   "outputs": [
    {
     "output_type": "execute_result",
     "data": {
      "text/plain": [
       "59"
      ]
     },
     "metadata": {},
     "execution_count": 25
    }
   ],
   "source": [
    "len(vocab2)"
   ]
  },
  {
   "source": [
    "Let's try this out!"
   ],
   "cell_type": "markdown",
   "metadata": {}
  },
  {
   "cell_type": "code",
   "execution_count": 34,
   "metadata": {},
   "outputs": [
    {
     "output_type": "stream",
     "name": "stdout",
     "text": [
      "tensor([[-4.5194, -4.4980, -4.6106, -4.0331, -4.2452, -4.5243, -4.1632, -4.4549,\n         -4.5684, -4.0000, -4.5083, -4.3641, -3.9523, -2.6807, -4.8401, -4.6424,\n         -4.6577, -3.8184, -4.3784, -4.0063, -3.4362, -4.1825, -3.9764, -4.4263,\n         -3.8398, -3.5312, -4.0631, -4.1231, -4.1584, -3.9082, -4.7878, -4.0765,\n         -4.5929, -2.7689, -4.5393, -4.1650, -4.2256, -4.2120, -4.4710, -4.0513,\n         -4.0130, -4.2901, -3.8652, -4.6372, -4.5354, -4.4602, -4.5569, -4.0463,\n         -4.0396, -4.0004, -4.3012, -4.0981, -4.2954, -3.9654, -4.3180, -3.5095,\n         -4.0772, -4.4340, -4.2695]])\ntensor(13)\ntomorrow,\n"
     ]
    }
   ],
   "source": [
    "import numpy as np\n",
    "\n",
    "with torch.no_grad():\n",
    "    context = ['tomorrow,', 'and']\n",
    "    context_idxs = torch.tensor([word_to_ix2[w] for w in context], dtype=torch.long)\n",
    "    pred = model(context_idxs)\n",
    "    print(pred)\n",
    "\n",
    "    ix_of_pred = np.argmax(pred)\n",
    "    print(ix_of_pred)\n",
    "    print(vocab2[ix_of_pred])"
   ]
  },
  {
   "source": [
    "## Exercise: Continuous Bag of Words\n",
    "Continuous Bag of Words is a model that tries to predict a word based on a few word before and after the word."
   ],
   "cell_type": "markdown",
   "metadata": {}
  },
  {
   "cell_type": "code",
   "execution_count": 35,
   "metadata": {},
   "outputs": [],
   "source": [
    "\n",
    "CONTEXT_SIZE = 2  # 2 words to the left, 2 to the right\n",
    "\n",
    "raw_text = \"\"\"We are about to study the idea of a computational process.\n",
    "Computational processes are abstract beings that inhabit computers.\n",
    "As they evolve, processes manipulate other abstract things called data.\n",
    "The evolution of a process is directed by a pattern of rules\n",
    "called a program. People create programs to direct processes. In effect,\n",
    "we conjure the spirits of the computer with our spells.\"\"\".split()"
   ]
  },
  {
   "cell_type": "code",
   "execution_count": 36,
   "metadata": {},
   "outputs": [],
   "source": [
    "vocab3 = list(set(raw_text))\n",
    "vocab3_size = len(vocab3)\n",
    "\n",
    "word_to_ix3 = {word:i for i, word in enumerate(vocab3)}"
   ]
  },
  {
   "cell_type": "code",
   "execution_count": 37,
   "metadata": {},
   "outputs": [
    {
     "output_type": "stream",
     "name": "stdout",
     "text": [
      "[(['We', 'are', 'to', 'study'], 'about'), (['are', 'about', 'study', 'the'], 'to')]\n"
     ]
    }
   ],
   "source": [
    "data = [] # for training\n",
    "\n",
    "for i in range(2, len(raw_text) - 2):\n",
    "    context = [raw_text[i-2], raw_text[i-1], raw_text[i+1], raw_text[i+2]]\n",
    "    target = raw_text[i]\n",
    "    data.append((context, target))\n",
    "\n",
    "print(data[:2])"
   ]
  },
  {
   "cell_type": "code",
   "execution_count": 39,
   "metadata": {},
   "outputs": [
    {
     "output_type": "execute_result",
     "data": {
      "text/plain": [
       "tensor([28, 34, 19, 29])"
      ]
     },
     "metadata": {},
     "execution_count": 39
    }
   ],
   "source": [
    "# create your model and train.  here are some functions to help you make\n",
    "# the data ready for use by your module\n",
    "def make_context_vector(context, word_to_ix3):\n",
    "    idxs = [word_to_ix3[w] for w in context]\n",
    "    return torch.tensor(idxs, dtype=torch.long)\n",
    "\n",
    "# test\n",
    "make_context_vector(data[0][0], word_to_ix3)"
   ]
  },
  {
   "cell_type": "code",
   "execution_count": 40,
   "metadata": {},
   "outputs": [],
   "source": [
    "class CBOW(nn.Module):\n",
    "    def __init__(self, vocab_size, embedding_size, hidden_size, context_size):\n",
    "        super(CBOW, self).__init__()\n",
    "        self.embeddings = nn.Embedding(vocab_size, embedding_size)\n",
    "        self.l1 = nn.Linear(context_size*2*embedding_size, hidden_size)\n",
    "        self.l2 = nn.Linear(hidden_size, vocab_size)\n",
    "\n",
    "    def forward(self, inputs):\n",
    "        embeds = self.embeddings(inputs).view((1, -1))\n",
    "        out = F.relu(self.l1(embeds))\n",
    "        out = self.l2(out)\n",
    "        log_probs = F.log_softmax(out, dim=1)\n",
    "        return log_probs"
   ]
  },
  {
   "cell_type": "code",
   "execution_count": 41,
   "metadata": {},
   "outputs": [],
   "source": [
    "learning_rate = 0.001\n",
    "epochs = 25\n",
    "losses = []\n",
    "loss_function = nn.NLLLoss()\n",
    "model = CBOW(vocab3_size, 10, 256, 2)\n",
    "\n",
    "optimizer = optim.SGD(model.parameters(), lr=learning_rate)"
   ]
  },
  {
   "cell_type": "code",
   "execution_count": 42,
   "metadata": {},
   "outputs": [
    {
     "output_type": "stream",
     "name": "stderr",
     "text": [
      "100%|██████████| 58/58 [00:00<00:00, 132.03it/s, loss=3.87]\n",
      "100%|██████████| 58/58 [00:00<00:00, 120.78it/s, loss=3.82]\n",
      "100%|██████████| 58/58 [00:00<00:00, 147.36it/s, loss=3.77]\n",
      "100%|██████████| 58/58 [00:00<00:00, 172.74it/s, loss=3.72]\n",
      "100%|██████████| 58/58 [00:00<00:00, 163.88it/s, loss=3.67]\n",
      "100%|██████████| 58/58 [00:00<00:00, 170.10it/s, loss=3.63]\n",
      "100%|██████████| 58/58 [00:00<00:00, 156.53it/s, loss=3.58]\n",
      "100%|██████████| 58/58 [00:00<00:00, 160.20it/s, loss=3.53]\n",
      "100%|██████████| 58/58 [00:00<00:00, 167.76it/s, loss=3.49]\n",
      "100%|██████████| 58/58 [00:00<00:00, 159.72it/s, loss=3.44]\n",
      "100%|██████████| 58/58 [00:00<00:00, 121.17it/s, loss=3.4]\n",
      "100%|██████████| 58/58 [00:00<00:00, 164.57it/s, loss=3.35]\n",
      "100%|██████████| 58/58 [00:00<00:00, 162.81it/s, loss=3.31]\n",
      "100%|██████████| 58/58 [00:00<00:00, 132.10it/s, loss=3.26]\n",
      "100%|██████████| 58/58 [00:00<00:00, 167.36it/s, loss=3.22]\n",
      "100%|██████████| 58/58 [00:00<00:00, 134.38it/s, loss=3.17]\n",
      "100%|██████████| 58/58 [00:00<00:00, 152.11it/s, loss=3.13]\n",
      "100%|██████████| 58/58 [00:00<00:00, 156.33it/s, loss=3.08]\n",
      "100%|██████████| 58/58 [00:00<00:00, 159.21it/s, loss=3.04]\n",
      "100%|██████████| 58/58 [00:00<00:00, 141.24it/s, loss=2.99]\n",
      "100%|██████████| 58/58 [00:00<00:00, 117.10it/s, loss=2.95]\n",
      "100%|██████████| 58/58 [00:00<00:00, 115.85it/s, loss=2.91]\n",
      "100%|██████████| 58/58 [00:00<00:00, 155.86it/s, loss=2.86]\n",
      "100%|██████████| 58/58 [00:00<00:00, 156.08it/s, loss=2.82]\n",
      "100%|██████████| 58/58 [00:00<00:00, 129.13it/s, loss=2.77]\n"
     ]
    }
   ],
   "source": [
    "for epoch in range(epochs):\n",
    "    total_loss = 0\n",
    "\n",
    "    iterator = tqdm(data)\n",
    "    for context, target in iterator:\n",
    "        context_idxs = make_context_vector(context, word_to_ix3)\n",
    "        target_vect = torch.tensor([word_to_ix3[target]],dtype=torch.long)\n",
    "\n",
    "        # zero grad\n",
    "        optimizer.zero_grad()\n",
    "\n",
    "        # forward pass, calculate loss\n",
    "        log_probs = model(context_idxs)\n",
    "        loss = loss_function(log_probs, target_vect)\n",
    "\n",
    "        # backward pass, update parameters\n",
    "        loss.backward()\n",
    "        optimizer.step()\n",
    "\n",
    "        total_loss += loss.item()\n",
    "        iterator.set_postfix(loss=loss.item())\n",
    "    \n",
    "    losses.append(total_loss)"
   ]
  },
  {
   "cell_type": "code",
   "execution_count": 43,
   "metadata": {},
   "outputs": [],
   "source": [
    "import matplotlib.pyplot as plt \n",
    "%matplotlib inline"
   ]
  },
  {
   "cell_type": "code",
   "execution_count": 44,
   "metadata": {},
   "outputs": [
    {
     "output_type": "display_data",
     "data": {
      "text/plain": "<Figure size 432x288 with 1 Axes>",
      "image/svg+xml": "<?xml version=\"1.0\" encoding=\"utf-8\" standalone=\"no\"?>\n<!DOCTYPE svg PUBLIC \"-//W3C//DTD SVG 1.1//EN\"\n  \"http://www.w3.org/Graphics/SVG/1.1/DTD/svg11.dtd\">\n<!-- Created with matplotlib (https://matplotlib.org/) -->\n<svg height=\"248.518125pt\" version=\"1.1\" viewBox=\"0 0 375.2875 248.518125\" width=\"375.2875pt\" xmlns=\"http://www.w3.org/2000/svg\" xmlns:xlink=\"http://www.w3.org/1999/xlink\">\n <metadata>\n  <rdf:RDF xmlns:cc=\"http://creativecommons.org/ns#\" xmlns:dc=\"http://purl.org/dc/elements/1.1/\" xmlns:rdf=\"http://www.w3.org/1999/02/22-rdf-syntax-ns#\">\n   <cc:Work>\n    <dc:type rdf:resource=\"http://purl.org/dc/dcmitype/StillImage\"/>\n    <dc:date>2020-10-26T17:27:17.175685</dc:date>\n    <dc:format>image/svg+xml</dc:format>\n    <dc:creator>\n     <cc:Agent>\n      <dc:title>Matplotlib v3.3.1, https://matplotlib.org/</dc:title>\n     </cc:Agent>\n    </dc:creator>\n   </cc:Work>\n  </rdf:RDF>\n </metadata>\n <defs>\n  <style type=\"text/css\">*{stroke-linecap:butt;stroke-linejoin:round;}</style>\n </defs>\n <g id=\"figure_1\">\n  <g id=\"patch_1\">\n   <path d=\"M 0 248.518125 \nL 375.2875 248.518125 \nL 375.2875 0 \nL 0 0 \nz\n\" style=\"fill:none;\"/>\n  </g>\n  <g id=\"axes_1\">\n   <g id=\"patch_2\">\n    <path d=\"M 33.2875 224.64 \nL 368.0875 224.64 \nL 368.0875 7.2 \nL 33.2875 7.2 \nz\n\" style=\"fill:#ffffff;\"/>\n   </g>\n   <g id=\"matplotlib.axis_1\">\n    <g id=\"xtick_1\">\n     <g id=\"line2d_1\">\n      <defs>\n       <path d=\"M 0 0 \nL 0 3.5 \n\" id=\"mf1a8b1a720\" style=\"stroke:#000000;stroke-width:0.8;\"/>\n      </defs>\n      <g>\n       <use style=\"stroke:#000000;stroke-width:0.8;\" x=\"48.505682\" xlink:href=\"#mf1a8b1a720\" y=\"224.64\"/>\n      </g>\n     </g>\n     <g id=\"text_1\">\n      <!-- 0 -->\n      <g transform=\"translate(45.324432 239.238438)scale(0.1 -0.1)\">\n       <defs>\n        <path d=\"M 31.78125 66.40625 \nQ 24.171875 66.40625 20.328125 58.90625 \nQ 16.5 51.421875 16.5 36.375 \nQ 16.5 21.390625 20.328125 13.890625 \nQ 24.171875 6.390625 31.78125 6.390625 \nQ 39.453125 6.390625 43.28125 13.890625 \nQ 47.125 21.390625 47.125 36.375 \nQ 47.125 51.421875 43.28125 58.90625 \nQ 39.453125 66.40625 31.78125 66.40625 \nz\nM 31.78125 74.21875 \nQ 44.046875 74.21875 50.515625 64.515625 \nQ 56.984375 54.828125 56.984375 36.375 \nQ 56.984375 17.96875 50.515625 8.265625 \nQ 44.046875 -1.421875 31.78125 -1.421875 \nQ 19.53125 -1.421875 13.0625 8.265625 \nQ 6.59375 17.96875 6.59375 36.375 \nQ 6.59375 54.828125 13.0625 64.515625 \nQ 19.53125 74.21875 31.78125 74.21875 \nz\n\" id=\"DejaVuSans-48\"/>\n       </defs>\n       <use xlink:href=\"#DejaVuSans-48\"/>\n      </g>\n     </g>\n    </g>\n    <g id=\"xtick_2\">\n     <g id=\"line2d_2\">\n      <g>\n       <use style=\"stroke:#000000;stroke-width:0.8;\" x=\"110.62071\" xlink:href=\"#mf1a8b1a720\" y=\"224.64\"/>\n      </g>\n     </g>\n     <g id=\"text_2\">\n      <!-- 10 -->\n      <g transform=\"translate(104.25821 239.238438)scale(0.1 -0.1)\">\n       <defs>\n        <path d=\"M 12.40625 8.296875 \nL 28.515625 8.296875 \nL 28.515625 63.921875 \nL 10.984375 60.40625 \nL 10.984375 69.390625 \nL 28.421875 72.90625 \nL 38.28125 72.90625 \nL 38.28125 8.296875 \nL 54.390625 8.296875 \nL 54.390625 0 \nL 12.40625 0 \nz\n\" id=\"DejaVuSans-49\"/>\n       </defs>\n       <use xlink:href=\"#DejaVuSans-49\"/>\n       <use x=\"63.623047\" xlink:href=\"#DejaVuSans-48\"/>\n      </g>\n     </g>\n    </g>\n    <g id=\"xtick_3\">\n     <g id=\"line2d_3\">\n      <g>\n       <use style=\"stroke:#000000;stroke-width:0.8;\" x=\"172.735737\" xlink:href=\"#mf1a8b1a720\" y=\"224.64\"/>\n      </g>\n     </g>\n     <g id=\"text_3\">\n      <!-- 20 -->\n      <g transform=\"translate(166.373237 239.238438)scale(0.1 -0.1)\">\n       <defs>\n        <path d=\"M 19.1875 8.296875 \nL 53.609375 8.296875 \nL 53.609375 0 \nL 7.328125 0 \nL 7.328125 8.296875 \nQ 12.9375 14.109375 22.625 23.890625 \nQ 32.328125 33.6875 34.8125 36.53125 \nQ 39.546875 41.84375 41.421875 45.53125 \nQ 43.3125 49.21875 43.3125 52.78125 \nQ 43.3125 58.59375 39.234375 62.25 \nQ 35.15625 65.921875 28.609375 65.921875 \nQ 23.96875 65.921875 18.8125 64.3125 \nQ 13.671875 62.703125 7.8125 59.421875 \nL 7.8125 69.390625 \nQ 13.765625 71.78125 18.9375 73 \nQ 24.125 74.21875 28.421875 74.21875 \nQ 39.75 74.21875 46.484375 68.546875 \nQ 53.21875 62.890625 53.21875 53.421875 \nQ 53.21875 48.921875 51.53125 44.890625 \nQ 49.859375 40.875 45.40625 35.40625 \nQ 44.1875 33.984375 37.640625 27.21875 \nQ 31.109375 20.453125 19.1875 8.296875 \nz\n\" id=\"DejaVuSans-50\"/>\n       </defs>\n       <use xlink:href=\"#DejaVuSans-50\"/>\n       <use x=\"63.623047\" xlink:href=\"#DejaVuSans-48\"/>\n      </g>\n     </g>\n    </g>\n    <g id=\"xtick_4\">\n     <g id=\"line2d_4\">\n      <g>\n       <use style=\"stroke:#000000;stroke-width:0.8;\" x=\"234.850765\" xlink:href=\"#mf1a8b1a720\" y=\"224.64\"/>\n      </g>\n     </g>\n     <g id=\"text_4\">\n      <!-- 30 -->\n      <g transform=\"translate(228.488265 239.238438)scale(0.1 -0.1)\">\n       <defs>\n        <path d=\"M 40.578125 39.3125 \nQ 47.65625 37.796875 51.625 33 \nQ 55.609375 28.21875 55.609375 21.1875 \nQ 55.609375 10.40625 48.1875 4.484375 \nQ 40.765625 -1.421875 27.09375 -1.421875 \nQ 22.515625 -1.421875 17.65625 -0.515625 \nQ 12.796875 0.390625 7.625 2.203125 \nL 7.625 11.71875 \nQ 11.71875 9.328125 16.59375 8.109375 \nQ 21.484375 6.890625 26.8125 6.890625 \nQ 36.078125 6.890625 40.9375 10.546875 \nQ 45.796875 14.203125 45.796875 21.1875 \nQ 45.796875 27.640625 41.28125 31.265625 \nQ 36.765625 34.90625 28.71875 34.90625 \nL 20.21875 34.90625 \nL 20.21875 43.015625 \nL 29.109375 43.015625 \nQ 36.375 43.015625 40.234375 45.921875 \nQ 44.09375 48.828125 44.09375 54.296875 \nQ 44.09375 59.90625 40.109375 62.90625 \nQ 36.140625 65.921875 28.71875 65.921875 \nQ 24.65625 65.921875 20.015625 65.03125 \nQ 15.375 64.15625 9.8125 62.3125 \nL 9.8125 71.09375 \nQ 15.4375 72.65625 20.34375 73.4375 \nQ 25.25 74.21875 29.59375 74.21875 \nQ 40.828125 74.21875 47.359375 69.109375 \nQ 53.90625 64.015625 53.90625 55.328125 \nQ 53.90625 49.265625 50.4375 45.09375 \nQ 46.96875 40.921875 40.578125 39.3125 \nz\n\" id=\"DejaVuSans-51\"/>\n       </defs>\n       <use xlink:href=\"#DejaVuSans-51\"/>\n       <use x=\"63.623047\" xlink:href=\"#DejaVuSans-48\"/>\n      </g>\n     </g>\n    </g>\n    <g id=\"xtick_5\">\n     <g id=\"line2d_5\">\n      <g>\n       <use style=\"stroke:#000000;stroke-width:0.8;\" x=\"296.965793\" xlink:href=\"#mf1a8b1a720\" y=\"224.64\"/>\n      </g>\n     </g>\n     <g id=\"text_5\">\n      <!-- 40 -->\n      <g transform=\"translate(290.603293 239.238438)scale(0.1 -0.1)\">\n       <defs>\n        <path d=\"M 37.796875 64.3125 \nL 12.890625 25.390625 \nL 37.796875 25.390625 \nz\nM 35.203125 72.90625 \nL 47.609375 72.90625 \nL 47.609375 25.390625 \nL 58.015625 25.390625 \nL 58.015625 17.1875 \nL 47.609375 17.1875 \nL 47.609375 0 \nL 37.796875 0 \nL 37.796875 17.1875 \nL 4.890625 17.1875 \nL 4.890625 26.703125 \nz\n\" id=\"DejaVuSans-52\"/>\n       </defs>\n       <use xlink:href=\"#DejaVuSans-52\"/>\n       <use x=\"63.623047\" xlink:href=\"#DejaVuSans-48\"/>\n      </g>\n     </g>\n    </g>\n    <g id=\"xtick_6\">\n     <g id=\"line2d_6\">\n      <g>\n       <use style=\"stroke:#000000;stroke-width:0.8;\" x=\"359.080821\" xlink:href=\"#mf1a8b1a720\" y=\"224.64\"/>\n      </g>\n     </g>\n     <g id=\"text_6\">\n      <!-- 50 -->\n      <g transform=\"translate(352.718321 239.238438)scale(0.1 -0.1)\">\n       <defs>\n        <path d=\"M 10.796875 72.90625 \nL 49.515625 72.90625 \nL 49.515625 64.59375 \nL 19.828125 64.59375 \nL 19.828125 46.734375 \nQ 21.96875 47.46875 24.109375 47.828125 \nQ 26.265625 48.1875 28.421875 48.1875 \nQ 40.625 48.1875 47.75 41.5 \nQ 54.890625 34.8125 54.890625 23.390625 \nQ 54.890625 11.625 47.5625 5.09375 \nQ 40.234375 -1.421875 26.90625 -1.421875 \nQ 22.3125 -1.421875 17.546875 -0.640625 \nQ 12.796875 0.140625 7.71875 1.703125 \nL 7.71875 11.625 \nQ 12.109375 9.234375 16.796875 8.0625 \nQ 21.484375 6.890625 26.703125 6.890625 \nQ 35.15625 6.890625 40.078125 11.328125 \nQ 45.015625 15.765625 45.015625 23.390625 \nQ 45.015625 31 40.078125 35.4375 \nQ 35.15625 39.890625 26.703125 39.890625 \nQ 22.75 39.890625 18.8125 39.015625 \nQ 14.890625 38.140625 10.796875 36.28125 \nz\n\" id=\"DejaVuSans-53\"/>\n       </defs>\n       <use xlink:href=\"#DejaVuSans-53\"/>\n       <use x=\"63.623047\" xlink:href=\"#DejaVuSans-48\"/>\n      </g>\n     </g>\n    </g>\n   </g>\n   <g id=\"matplotlib.axis_2\">\n    <g id=\"ytick_1\">\n     <g id=\"line2d_7\">\n      <defs>\n       <path d=\"M 0 0 \nL -3.5 0 \n\" id=\"mfe01f2410d\" style=\"stroke:#000000;stroke-width:0.8;\"/>\n      </defs>\n      <g>\n       <use style=\"stroke:#000000;stroke-width:0.8;\" x=\"33.2875\" xlink:href=\"#mfe01f2410d\" y=\"197.251997\"/>\n      </g>\n     </g>\n     <g id=\"text_7\">\n      <!-- 180 -->\n      <g transform=\"translate(7.2 201.051216)scale(0.1 -0.1)\">\n       <defs>\n        <path d=\"M 31.78125 34.625 \nQ 24.75 34.625 20.71875 30.859375 \nQ 16.703125 27.09375 16.703125 20.515625 \nQ 16.703125 13.921875 20.71875 10.15625 \nQ 24.75 6.390625 31.78125 6.390625 \nQ 38.8125 6.390625 42.859375 10.171875 \nQ 46.921875 13.96875 46.921875 20.515625 \nQ 46.921875 27.09375 42.890625 30.859375 \nQ 38.875 34.625 31.78125 34.625 \nz\nM 21.921875 38.8125 \nQ 15.578125 40.375 12.03125 44.71875 \nQ 8.5 49.078125 8.5 55.328125 \nQ 8.5 64.0625 14.71875 69.140625 \nQ 20.953125 74.21875 31.78125 74.21875 \nQ 42.671875 74.21875 48.875 69.140625 \nQ 55.078125 64.0625 55.078125 55.328125 \nQ 55.078125 49.078125 51.53125 44.71875 \nQ 48 40.375 41.703125 38.8125 \nQ 48.828125 37.15625 52.796875 32.3125 \nQ 56.78125 27.484375 56.78125 20.515625 \nQ 56.78125 9.90625 50.3125 4.234375 \nQ 43.84375 -1.421875 31.78125 -1.421875 \nQ 19.734375 -1.421875 13.25 4.234375 \nQ 6.78125 9.90625 6.78125 20.515625 \nQ 6.78125 27.484375 10.78125 32.3125 \nQ 14.796875 37.15625 21.921875 38.8125 \nz\nM 18.3125 54.390625 \nQ 18.3125 48.734375 21.84375 45.5625 \nQ 25.390625 42.390625 31.78125 42.390625 \nQ 38.140625 42.390625 41.71875 45.5625 \nQ 45.3125 48.734375 45.3125 54.390625 \nQ 45.3125 60.0625 41.71875 63.234375 \nQ 38.140625 66.40625 31.78125 66.40625 \nQ 25.390625 66.40625 21.84375 63.234375 \nQ 18.3125 60.0625 18.3125 54.390625 \nz\n\" id=\"DejaVuSans-56\"/>\n       </defs>\n       <use xlink:href=\"#DejaVuSans-49\"/>\n       <use x=\"63.623047\" xlink:href=\"#DejaVuSans-56\"/>\n       <use x=\"127.246094\" xlink:href=\"#DejaVuSans-48\"/>\n      </g>\n     </g>\n    </g>\n    <g id=\"ytick_2\">\n     <g id=\"line2d_8\">\n      <g>\n       <use style=\"stroke:#000000;stroke-width:0.8;\" x=\"33.2875\" xlink:href=\"#mfe01f2410d\" y=\"167.23911\"/>\n      </g>\n     </g>\n     <g id=\"text_8\">\n      <!-- 200 -->\n      <g transform=\"translate(7.2 171.038329)scale(0.1 -0.1)\">\n       <use xlink:href=\"#DejaVuSans-50\"/>\n       <use x=\"63.623047\" xlink:href=\"#DejaVuSans-48\"/>\n       <use x=\"127.246094\" xlink:href=\"#DejaVuSans-48\"/>\n      </g>\n     </g>\n    </g>\n    <g id=\"ytick_3\">\n     <g id=\"line2d_9\">\n      <g>\n       <use style=\"stroke:#000000;stroke-width:0.8;\" x=\"33.2875\" xlink:href=\"#mfe01f2410d\" y=\"137.226223\"/>\n      </g>\n     </g>\n     <g id=\"text_9\">\n      <!-- 220 -->\n      <g transform=\"translate(7.2 141.025442)scale(0.1 -0.1)\">\n       <use xlink:href=\"#DejaVuSans-50\"/>\n       <use x=\"63.623047\" xlink:href=\"#DejaVuSans-50\"/>\n       <use x=\"127.246094\" xlink:href=\"#DejaVuSans-48\"/>\n      </g>\n     </g>\n    </g>\n    <g id=\"ytick_4\">\n     <g id=\"line2d_10\">\n      <g>\n       <use style=\"stroke:#000000;stroke-width:0.8;\" x=\"33.2875\" xlink:href=\"#mfe01f2410d\" y=\"107.213336\"/>\n      </g>\n     </g>\n     <g id=\"text_10\">\n      <!-- 240 -->\n      <g transform=\"translate(7.2 111.012555)scale(0.1 -0.1)\">\n       <use xlink:href=\"#DejaVuSans-50\"/>\n       <use x=\"63.623047\" xlink:href=\"#DejaVuSans-52\"/>\n       <use x=\"127.246094\" xlink:href=\"#DejaVuSans-48\"/>\n      </g>\n     </g>\n    </g>\n    <g id=\"ytick_5\">\n     <g id=\"line2d_11\">\n      <g>\n       <use style=\"stroke:#000000;stroke-width:0.8;\" x=\"33.2875\" xlink:href=\"#mfe01f2410d\" y=\"77.200449\"/>\n      </g>\n     </g>\n     <g id=\"text_11\">\n      <!-- 260 -->\n      <g transform=\"translate(7.2 80.999668)scale(0.1 -0.1)\">\n       <defs>\n        <path d=\"M 33.015625 40.375 \nQ 26.375 40.375 22.484375 35.828125 \nQ 18.609375 31.296875 18.609375 23.390625 \nQ 18.609375 15.53125 22.484375 10.953125 \nQ 26.375 6.390625 33.015625 6.390625 \nQ 39.65625 6.390625 43.53125 10.953125 \nQ 47.40625 15.53125 47.40625 23.390625 \nQ 47.40625 31.296875 43.53125 35.828125 \nQ 39.65625 40.375 33.015625 40.375 \nz\nM 52.59375 71.296875 \nL 52.59375 62.3125 \nQ 48.875 64.0625 45.09375 64.984375 \nQ 41.3125 65.921875 37.59375 65.921875 \nQ 27.828125 65.921875 22.671875 59.328125 \nQ 17.53125 52.734375 16.796875 39.40625 \nQ 19.671875 43.65625 24.015625 45.921875 \nQ 28.375 48.1875 33.59375 48.1875 \nQ 44.578125 48.1875 50.953125 41.515625 \nQ 57.328125 34.859375 57.328125 23.390625 \nQ 57.328125 12.15625 50.6875 5.359375 \nQ 44.046875 -1.421875 33.015625 -1.421875 \nQ 20.359375 -1.421875 13.671875 8.265625 \nQ 6.984375 17.96875 6.984375 36.375 \nQ 6.984375 53.65625 15.1875 63.9375 \nQ 23.390625 74.21875 37.203125 74.21875 \nQ 40.921875 74.21875 44.703125 73.484375 \nQ 48.484375 72.75 52.59375 71.296875 \nz\n\" id=\"DejaVuSans-54\"/>\n       </defs>\n       <use xlink:href=\"#DejaVuSans-50\"/>\n       <use x=\"63.623047\" xlink:href=\"#DejaVuSans-54\"/>\n       <use x=\"127.246094\" xlink:href=\"#DejaVuSans-48\"/>\n      </g>\n     </g>\n    </g>\n    <g id=\"ytick_6\">\n     <g id=\"line2d_12\">\n      <g>\n       <use style=\"stroke:#000000;stroke-width:0.8;\" x=\"33.2875\" xlink:href=\"#mfe01f2410d\" y=\"47.187562\"/>\n      </g>\n     </g>\n     <g id=\"text_12\">\n      <!-- 280 -->\n      <g transform=\"translate(7.2 50.986781)scale(0.1 -0.1)\">\n       <use xlink:href=\"#DejaVuSans-50\"/>\n       <use x=\"63.623047\" xlink:href=\"#DejaVuSans-56\"/>\n       <use x=\"127.246094\" xlink:href=\"#DejaVuSans-48\"/>\n      </g>\n     </g>\n    </g>\n    <g id=\"ytick_7\">\n     <g id=\"line2d_13\">\n      <g>\n       <use style=\"stroke:#000000;stroke-width:0.8;\" x=\"33.2875\" xlink:href=\"#mfe01f2410d\" y=\"17.174675\"/>\n      </g>\n     </g>\n     <g id=\"text_13\">\n      <!-- 300 -->\n      <g transform=\"translate(7.2 20.973894)scale(0.1 -0.1)\">\n       <use xlink:href=\"#DejaVuSans-51\"/>\n       <use x=\"63.623047\" xlink:href=\"#DejaVuSans-48\"/>\n       <use x=\"127.246094\" xlink:href=\"#DejaVuSans-48\"/>\n      </g>\n     </g>\n    </g>\n   </g>\n   <g id=\"line2d_14\">\n    <path clip-path=\"url(#pd7c7bf52c8)\" d=\"M 48.505682 17.083636 \nL 54.717185 20.99905 \nL 60.928687 24.869832 \nL 67.14019 28.697699 \nL 73.351693 32.484621 \nL 79.563196 36.230919 \nL 85.774699 39.937226 \nL 91.986201 43.604461 \nL 98.197704 47.234413 \nL 104.409207 50.827266 \nL 110.62071 54.382873 \nL 116.832212 57.90293 \nL 123.043715 61.388793 \nL 129.255218 64.841126 \nL 135.466721 68.261336 \nL 141.678224 71.649466 \nL 147.889726 75.007312 \nL 154.101229 78.335607 \nL 160.312732 81.635743 \nL 166.524235 84.908832 \nL 172.735737 88.155968 \nL 178.94724 91.378786 \nL 185.158743 94.576973 \nL 191.370246 97.751891 \nL 197.581749 100.905219 \nL 203.793251 127.400225 \nL 210.004754 131.468189 \nL 216.216257 135.488124 \nL 222.42776 139.461073 \nL 228.639263 143.38945 \nL 234.850765 147.274633 \nL 241.062268 151.118348 \nL 247.273771 154.920892 \nL 253.485274 158.684075 \nL 259.696776 162.410674 \nL 265.908279 166.102845 \nL 272.119782 169.761074 \nL 278.331285 173.388572 \nL 284.542788 176.984295 \nL 290.75429 180.550028 \nL 296.965793 184.087404 \nL 303.177296 187.595913 \nL 309.388799 191.077187 \nL 315.600301 194.530376 \nL 321.811804 197.959107 \nL 328.023307 201.364121 \nL 334.23481 204.744413 \nL 340.446313 208.103154 \nL 346.657815 211.440119 \nL 352.869318 214.756364 \n\" style=\"fill:none;stroke:#1f77b4;stroke-linecap:square;stroke-width:1.5;\"/>\n   </g>\n   <g id=\"patch_3\">\n    <path d=\"M 33.2875 224.64 \nL 33.2875 7.2 \n\" style=\"fill:none;stroke:#000000;stroke-linecap:square;stroke-linejoin:miter;stroke-width:0.8;\"/>\n   </g>\n   <g id=\"patch_4\">\n    <path d=\"M 368.0875 224.64 \nL 368.0875 7.2 \n\" style=\"fill:none;stroke:#000000;stroke-linecap:square;stroke-linejoin:miter;stroke-width:0.8;\"/>\n   </g>\n   <g id=\"patch_5\">\n    <path d=\"M 33.2875 224.64 \nL 368.0875 224.64 \n\" style=\"fill:none;stroke:#000000;stroke-linecap:square;stroke-linejoin:miter;stroke-width:0.8;\"/>\n   </g>\n   <g id=\"patch_6\">\n    <path d=\"M 33.2875 7.2 \nL 368.0875 7.2 \n\" style=\"fill:none;stroke:#000000;stroke-linecap:square;stroke-linejoin:miter;stroke-width:0.8;\"/>\n   </g>\n  </g>\n </g>\n <defs>\n  <clipPath id=\"pd7c7bf52c8\">\n   <rect height=\"217.44\" width=\"334.8\" x=\"33.2875\" y=\"7.2\"/>\n  </clipPath>\n </defs>\n</svg>\n",
      "image/png": "[encoded data removed]"
     },
     "metadata": {
      "needs_background": "light"
     }
    }
   ],
   "source": [
    "plt.plot(losses)\n",
    "plt.show()"
   ]
  },
  {
   "cell_type": "code",
   "execution_count": 45,
   "metadata": {},
   "outputs": [
    {
     "output_type": "execute_result",
     "data": {
      "text/plain": [
       "CBOW(\n",
       "  (embeddings): Embedding(49, 10)\n",
       "  (l1): Linear(in_features=40, out_features=256, bias=True)\n",
       "  (l2): Linear(in_features=256, out_features=49, bias=True)\n",
       ")"
      ]
     },
     "metadata": {},
     "execution_count": 45
    }
   ],
   "source": [
    "model.eval()"
   ]
  },
  {
   "cell_type": "code",
   "execution_count": 46,
   "metadata": {},
   "outputs": [
    {
     "output_type": "stream",
     "name": "stdout",
     "text": [
      "tensor([[-3.8374, -4.1494, -3.9322, -4.1474, -4.2296, -3.2942, -3.9723, -4.7009,\n         -4.1333, -4.6231, -4.2210, -4.3470, -4.0877, -4.1785, -3.0125, -4.0918,\n         -4.0958, -4.8311, -3.9875, -4.2706, -3.0406, -4.0187, -4.3088, -4.3530,\n         -4.1002, -3.9901, -3.9967, -3.4077, -4.8669, -4.4567, -4.0563, -3.6777,\n         -4.0914, -4.7685, -2.5994, -3.7635, -3.6721, -4.0759, -3.3512, -3.6868,\n         -3.8181, -3.4975, -4.2904, -4.2967, -4.2187, -4.8899, -4.1274, -3.2103,\n         -4.1965]])\nare\n"
     ]
    }
   ],
   "source": [
    "\n",
    "import numpy\n",
    "\n",
    "with torch.no_grad():\n",
    "    context = ['Computational', 'processes', 'abstract', 'beings']\n",
    "    context_idxs = torch.tensor([word_to_ix3[w] for w in context], dtype=torch.long)\n",
    "    pred = model(context_idxs)\n",
    "    print(pred)\n",
    "    index_of_prediction = numpy.argmax(pred)\n",
    "    print(vocab3[index_of_prediction])"
   ]
  },
  {
   "cell_type": "code",
   "execution_count": null,
   "metadata": {},
   "outputs": [],
   "source": []
  }
 ]
}